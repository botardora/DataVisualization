{
    "metadata": {
        "kernelspec": {
            "name": "python3",
            "display_name": "Python 3",
            "language": "python"
        },
        "language_info": {
            "name": "python",
            "version": "3.8.10",
            "mimetype": "text/x-python",
            "codemirror_mode": {
                "name": "ipython",
                "version": 3
            },
            "pygments_lexer": "ipython3",
            "nbconvert_exporter": "python",
            "file_extension": ".py"
        }
    },
    "nbformat_minor": 2,
    "nbformat": 4,
    "cells": [
        {
            "cell_type": "code",
            "source": [
                "#!pip install influxdb"
            ],
            "metadata": {
                "azdata_cell_guid": "04b8438d-d563-401a-af6c-16ad30cd66c8",
                "language": "python"
            },
            "outputs": [],
            "execution_count": 4
        },
        {
            "cell_type": "code",
            "source": [
                "#!pip install pandas"
            ],
            "metadata": {
                "azdata_cell_guid": "f63d412d-e5c3-473e-b248-a956dd514dc7",
                "language": "python"
            },
            "outputs": [],
            "execution_count": 5
        },
        {
            "cell_type": "code",
            "source": [
                "import pandas as pd"
            ],
            "metadata": {
                "azdata_cell_guid": "86552aca-d67c-414d-bd4f-d5f58c991124",
                "language": "python"
            },
            "outputs": [],
            "execution_count": 9
        },
        {
            "cell_type": "code",
            "source": [
                "df=pd.read_csv('exportPivot_BUF110I-havi consu ro 2000-2022.csv')"
            ],
            "metadata": {
                "azdata_cell_guid": "93e3bbbe-011e-45c4-b394-1f324354fe57",
                "language": "python"
            },
            "outputs": [],
            "execution_count": 11
        },
        {
            "cell_type": "code",
            "source": [
                "for column in df.select_dtypes(include='object').columns:\n",
                "    df[column] = df[column].str.replace('Anul', '').str.strip()"
            ],
            "metadata": {
                "azdata_cell_guid": "2973b886-e4d8-4663-a488-e3014516adb2",
                "language": "python"
            },
            "outputs": [],
            "execution_count": 13
        },
        {
            "cell_type": "code",
            "source": [
                "for column in df.select_dtypes(include='object').columns:\n",
                "    df[column] = df[column].str.replace('Salariati', 'Alkalmazottak').str.strip()"
            ],
            "metadata": {
                "azdata_cell_guid": "2031070a-0910-4327-8dec-928abef01e68",
                "language": "python"
            },
            "outputs": [],
            "execution_count": 50
        },
        {
            "cell_type": "code",
            "source": [
                "for column in df.select_dtypes(include='object').columns:\n",
                "    df[column] = df[column].str.replace('Someri', 'Munkanélküliek').str.strip()"
            ],
            "metadata": {
                "azdata_cell_guid": "e2ec3bbb-5572-4c15-83ea-a74f978f5449",
                "language": "python"
            },
            "outputs": [],
            "execution_count": 49
        },
        {
            "cell_type": "code",
            "source": [
                "for column in df.select_dtypes(include='object').columns:\n",
                "    df[column] = df[column].str.replace('Pensionari', 'Nyugdíjasok').str.strip()"
            ],
            "metadata": {
                "azdata_cell_guid": "4bdce253-b6fc-4a73-814d-6983e2b3a604",
                "language": "python"
            },
            "outputs": [],
            "execution_count": 48
        },
        {
            "cell_type": "code",
            "source": [
                "for column in df.select_dtypes(include='object').columns:\n",
                "    df[column] = df[column].str.replace('Bauturi alcoolice  total (l)', 'Total').str.strip()"
            ],
            "metadata": {
                "azdata_cell_guid": "bd0b42a2-0f44-4a62-932f-cf13a5d4fa61",
                "language": "python"
            },
            "outputs": [],
            "execution_count": 52
        },
        {
            "cell_type": "code",
            "source": [
                "for column in df.select_dtypes(include='object').columns:\n",
                "    df[column] = df[column].str.replace('Vin', 'Bor').str.strip()"
            ],
            "metadata": {
                "azdata_cell_guid": "3170a0bf-b51d-4fb9-8dd1-457cb923fa42",
                "language": "python"
            },
            "outputs": [],
            "execution_count": 53
        },
        {
            "cell_type": "code",
            "source": [
                "for column in df.select_dtypes(include='object').columns:\n",
                "    df[column] = df[column].str.replace('Bere', 'Sör').str.strip()"
            ],
            "metadata": {
                "azdata_cell_guid": "2cd51ce8-3c97-4a81-9b2a-c015e6a53870",
                "language": "python"
            },
            "outputs": [],
            "execution_count": 54
        },
        {
            "cell_type": "code",
            "source": [
                "for column in df.select_dtypes(include='object').columns:\n",
                "    df[column] = df[column].str.replace('Tuica si rachiuri naturale', 'Pálinka').str.strip()"
            ],
            "metadata": {
                "azdata_cell_guid": "e1befbd9-9af5-42a5-865e-61184f894529",
                "language": "python"
            },
            "outputs": [],
            "execution_count": 55
        },
        {
            "cell_type": "code",
            "source": [
                "for column in df.select_dtypes(include='object').columns:\n",
                "    df[column] = df[column].str.replace('Rural', 'Vidéki').str.strip()"
            ],
            "metadata": {
                "azdata_cell_guid": "7ea2ee55-1a3d-45b4-8b51-5a177f9f2f40",
                "language": "python"
            },
            "outputs": [],
            "execution_count": 58
        },
        {
            "cell_type": "code",
            "source": [
                "for column in df.select_dtypes(include='object').columns:\n",
                "    df[column] = df[column].str.replace('Urban', 'Városi').str.strip()"
            ],
            "metadata": {
                "azdata_cell_guid": "5a264398-c2f9-4e32-ae20-777b9a3d418f",
                "language": "python"
            },
            "outputs": [],
            "execution_count": 57
        },
        {
            "cell_type": "code",
            "source": [
                "df.info()"
            ],
            "metadata": {
                "azdata_cell_guid": "e98f13aa-6fb1-468c-8e0e-597246c45ba0",
                "language": "python"
            },
            "outputs": [
                {
                    "output_type": "stream",
                    "name": "stdout",
                    "text": "<class 'pandas.core.frame.DataFrame'>\nRangeIndex: 1056 entries, 0 to 1055\nData columns (total 6 columns):\n #   Column                                                     Non-Null Count  Dtype  \n---  ------                                                     --------------  -----  \n 0   ABF - Principalele produse alimentare ale consumului uman  1056 non-null   object \n 1    ABF - Principalele categorii sociale                      1056 non-null   object \n 2    Medii de rezidenta                                        1056 non-null   object \n 3    Perioade                                                  1056 non-null   object \n 4    Unitati de masura                                         1056 non-null   object \n 5    Valoare                                                   1056 non-null   float64\ndtypes: float64(1), object(5)\nmemory usage: 49.6+ KB\n"
                }
            ],
            "execution_count": 15
        },
        {
            "cell_type": "code",
            "source": [
                "df[' Perioade'] = pd.to_datetime(df[' Perioade'])"
            ],
            "metadata": {
                "azdata_cell_guid": "ecc2d630-3149-46c9-9db2-71624c5ede4a",
                "language": "python"
            },
            "outputs": [],
            "execution_count": 19
        },
        {
            "cell_type": "code",
            "source": [
                "df.info()"
            ],
            "metadata": {
                "azdata_cell_guid": "edf9b292-832d-4207-b4ad-139700afb9c3",
                "language": "python"
            },
            "outputs": [
                {
                    "output_type": "stream",
                    "name": "stdout",
                    "text": "<class 'pandas.core.frame.DataFrame'>\nDatetimeIndex: 1056 entries, 2001-01-01 to 2022-01-01\nData columns (total 5 columns):\n #   Column                                                     Non-Null Count  Dtype  \n---  ------                                                     --------------  -----  \n 0   ABF - Principalele produse alimentare ale consumului uman  1056 non-null   object \n 1   ABF - Principalele categorii sociale                       1056 non-null   object \n 2   Medii de rezidenta                                         1056 non-null   object \n 3   Unitati de masura                                          1056 non-null   object \n 4   Valoare                                                    1056 non-null   float64\ndtypes: float64(1), object(4)\nmemory usage: 49.5+ KB\n"
                }
            ],
            "execution_count": 40
        },
        {
            "cell_type": "code",
            "source": [
                "df.columns"
            ],
            "metadata": {
                "azdata_cell_guid": "54863bad-f99f-46ae-a7b9-d170b23ba487",
                "language": "python"
            },
            "outputs": [
                {
                    "output_type": "execute_result",
                    "execution_count": 37,
                    "data": {
                        "text/plain": "Index(['ABF - Principalele produse alimentare ale consumului uman',\n       'ABF - Principalele categorii sociale', 'Medii de rezidenta',\n       'Unitati de masura', 'Valoare'],\n      dtype='object')"
                    },
                    "metadata": {}
                }
            ],
            "execution_count": 37
        },
        {
            "cell_type": "code",
            "source": [
                "df = df.set_index(' Perioade')"
            ],
            "metadata": {
                "azdata_cell_guid": "df64573c-d29a-4ed3-93c2-8db6ad241245",
                "language": "python"
            },
            "outputs": [],
            "execution_count": 23
        },
        {
            "cell_type": "code",
            "source": [
                "df"
            ],
            "metadata": {
                "azdata_cell_guid": "9887e38a-878d-419c-a11e-60a97efe5788",
                "language": "python"
            },
            "outputs": [
                {
                    "output_type": "execute_result",
                    "execution_count": 59,
                    "data": {
                        "text/html": "<div>\n<style scoped>\n    .dataframe tbody tr th:only-of-type {\n        vertical-align: middle;\n    }\n\n    .dataframe tbody tr th {\n        vertical-align: top;\n    }\n\n    .dataframe thead th {\n        text-align: right;\n    }\n</style>\n<table border=\"1\" class=\"dataframe\">\n  <thead>\n    <tr style=\"text-align: right;\">\n      <th></th>\n      <th>Termekek</th>\n      <th>Szocialis_retegek</th>\n      <th>Lakhely</th>\n      <th>Mertekegyseg</th>\n      <th>Ertek</th>\n    </tr>\n    <tr>\n      <th>Perioade</th>\n      <th></th>\n      <th></th>\n      <th></th>\n      <th></th>\n      <th></th>\n    </tr>\n  </thead>\n  <tbody>\n    <tr>\n      <th>2001-01-01</th>\n      <td>Total</td>\n      <td>Total</td>\n      <td>Total</td>\n      <td>Litri</td>\n      <td>2.159</td>\n    </tr>\n    <tr>\n      <th>2002-01-01</th>\n      <td>Total</td>\n      <td>Total</td>\n      <td>Total</td>\n      <td>Litri</td>\n      <td>2.137</td>\n    </tr>\n    <tr>\n      <th>2003-01-01</th>\n      <td>Total</td>\n      <td>Total</td>\n      <td>Total</td>\n      <td>Litri</td>\n      <td>2.231</td>\n    </tr>\n    <tr>\n      <th>2004-01-01</th>\n      <td>Total</td>\n      <td>Total</td>\n      <td>Total</td>\n      <td>Litri</td>\n      <td>2.101</td>\n    </tr>\n    <tr>\n      <th>2005-01-01</th>\n      <td>Total</td>\n      <td>Total</td>\n      <td>Total</td>\n      <td>Litri</td>\n      <td>2.056</td>\n    </tr>\n    <tr>\n      <th>...</th>\n      <td>...</td>\n      <td>...</td>\n      <td>...</td>\n      <td>...</td>\n      <td>...</td>\n    </tr>\n    <tr>\n      <th>2018-01-01</th>\n      <td>Pálinka</td>\n      <td>Nyugdíjasok</td>\n      <td>Vidéki</td>\n      <td>Litri</td>\n      <td>0.377</td>\n    </tr>\n    <tr>\n      <th>2019-01-01</th>\n      <td>Pálinka</td>\n      <td>Nyugdíjasok</td>\n      <td>Vidéki</td>\n      <td>Litri</td>\n      <td>0.375</td>\n    </tr>\n    <tr>\n      <th>2020-01-01</th>\n      <td>Pálinka</td>\n      <td>Nyugdíjasok</td>\n      <td>Vidéki</td>\n      <td>Litri</td>\n      <td>0.344</td>\n    </tr>\n    <tr>\n      <th>2021-01-01</th>\n      <td>Pálinka</td>\n      <td>Nyugdíjasok</td>\n      <td>Vidéki</td>\n      <td>Litri</td>\n      <td>0.357</td>\n    </tr>\n    <tr>\n      <th>2022-01-01</th>\n      <td>Pálinka</td>\n      <td>Nyugdíjasok</td>\n      <td>Vidéki</td>\n      <td>Litri</td>\n      <td>0.360</td>\n    </tr>\n  </tbody>\n</table>\n<p>1056 rows × 5 columns</p>\n</div>",
                        "text/plain": "           Termekek Szocialis_retegek Lakhely Mertekegyseg  Ertek\n Perioade                                                        \n2001-01-01    Total             Total   Total        Litri  2.159\n2002-01-01    Total             Total   Total        Litri  2.137\n2003-01-01    Total             Total   Total        Litri  2.231\n2004-01-01    Total             Total   Total        Litri  2.101\n2005-01-01    Total             Total   Total        Litri  2.056\n...             ...               ...     ...          ...    ...\n2018-01-01  Pálinka       Nyugdíjasok  Vidéki        Litri  0.377\n2019-01-01  Pálinka       Nyugdíjasok  Vidéki        Litri  0.375\n2020-01-01  Pálinka       Nyugdíjasok  Vidéki        Litri  0.344\n2021-01-01  Pálinka       Nyugdíjasok  Vidéki        Litri  0.357\n2022-01-01  Pálinka       Nyugdíjasok  Vidéki        Litri  0.360\n\n[1056 rows x 5 columns]"
                    },
                    "metadata": {}
                }
            ],
            "execution_count": 59
        },
        {
            "cell_type": "code",
            "source": [
                "measurement = 'projekt1'"
            ],
            "metadata": {
                "azdata_cell_guid": "8b9a1d73-7f71-4b70-97f2-7e6b3977c0db",
                "language": "python"
            },
            "outputs": [],
            "execution_count": 69
        },
        {
            "cell_type": "code",
            "source": [
                "from influxdb import DataFrameClient"
            ],
            "metadata": {
                "azdata_cell_guid": "5a12abd5-29c5-41d9-800b-8118768b3d74",
                "language": "python"
            },
            "outputs": [],
            "execution_count": 61
        },
        {
            "cell_type": "code",
            "source": [
                "user = 'root'\n",
                "password = 'root'\n",
                "host = 'my_influxdb'\n",
                "port = 8086\n",
                "dbname = 'projekt'\n",
                "protocol = 'line'\n",
                "client = DataFrameClient(host, port, user, password, dbname)"
            ],
            "metadata": {
                "azdata_cell_guid": "f9cf1105-ff07-4b57-b178-0e0d33837c0d",
                "language": "python"
            },
            "outputs": [],
            "execution_count": 62
        },
        {
            "cell_type": "code",
            "source": [
                "client.query('show databases')"
            ],
            "metadata": {
                "azdata_cell_guid": "ba9a0b60-77fb-4d92-95bb-66890314d115",
                "language": "python"
            },
            "outputs": [
                {
                    "output_type": "execute_result",
                    "execution_count": 67,
                    "data": {
                        "text/plain": "ResultSet({'('databases', None)': [{'name': '_internal'}, {'name': 'base'}, {'name': 'projekt'}]})"
                    },
                    "metadata": {}
                }
            ],
            "execution_count": 67
        },
        {
            "cell_type": "code",
            "source": [
                "client.create_database(dbname)"
            ],
            "metadata": {
                "azdata_cell_guid": "4364028c-9bb7-4e70-8adb-31cfeeff1372",
                "language": "python"
            },
            "outputs": [],
            "execution_count": 64
        },
        {
            "cell_type": "code",
            "source": [
                "df.columns = df.columns.str.strip()\n"
            ],
            "metadata": {
                "azdata_cell_guid": "92b00168-5e26-4ed4-8f88-cfba35c99c58",
                "language": "python"
            },
            "outputs": [],
            "execution_count": 36
        },
        {
            "cell_type": "code",
            "source": [
                "df.columns=['Termekek',\n",
                "       'Szocialis_retegek', 'Lakhely',\n",
                "       'Mertekegyseg', 'Ertek']"
            ],
            "metadata": {
                "azdata_cell_guid": "7c14e1a3-d848-4dc6-90d3-d073c9777483",
                "language": "python"
            },
            "outputs": [],
            "execution_count": 42
        },
        {
            "cell_type": "code",
            "source": [
                "client.write_points(df, measurement, protocol=protocol,\n",
                "                   field_columns = ['Ertek'],\n",
                "                   tag_columns = ['Termekek',\n",
                "       'Szocialis_retegek', 'Lakhely'])"
            ],
            "metadata": {
                "tags": [],
                "azdata_cell_guid": "10c5f058-ad34-45cb-9f5d-a958ff0f20f1",
                "language": "python"
            },
            "outputs": [
                {
                    "output_type": "execute_result",
                    "execution_count": 70,
                    "data": {
                        "text/plain": "True"
                    },
                    "metadata": {}
                }
            ],
            "execution_count": 70
        },
        {
            "cell_type": "code",
            "source": [
                "df.to_csv('tabla.csv')"
            ],
            "metadata": {
                "azdata_cell_guid": "1287d2e7-1392-4704-913c-277f196ca525",
                "language": "python"
            },
            "outputs": [],
            "execution_count": 68
        }
    ]
}